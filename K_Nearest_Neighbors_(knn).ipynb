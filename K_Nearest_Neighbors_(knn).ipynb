{
 "cells": [
  {
   "cell_type": "code",
   "execution_count": 1,
   "id": "598aa0fc",
   "metadata": {},
   "outputs": [],
   "source": [
    "import numpy as np"
   ]
  },
  {
   "cell_type": "code",
   "execution_count": 122,
   "id": "da156c99",
   "metadata": {},
   "outputs": [],
   "source": [
    "class KNN:\n",
    "    def __init__(self,k = 3):\n",
    "        self.k = k\n",
    "        \n",
    "    def sample_distance(self, sample, features_train):\n",
    "        distance_2 = (sample - features_train )**2\n",
    "        dist = distance_2.sum(1)\n",
    "        dist -= np.max(dist)\n",
    "        sortedIndex = np.argsort(dist)\n",
    "        return dist, sortedIndex\n",
    "    \n",
    "    def clssifier(self,sample,features_train,label_train):\n",
    "        dist, Index = self.sample_distance(sample,features_train)\n",
    "        kIndex = Index[:self.k]\n",
    "        kPred = [label_train[Index] for Index in kIndex]\n",
    "        labels, lb_counts = np.unique(kPred,return_counts=True)\n",
    "        return labels[np.argmax(lb_counts)]\n",
    "    \n",
    "    def fit(self,features_test,features_train,label_train, progressBar=True):\n",
    "        self.pred_label = []\n",
    "        for j in range(features_test.shape[0]):\n",
    "            temp_label = self.clssifier(features_test[j,:],features_train,label_train)\n",
    "            self.pred_label.append(temp_label)\n",
    "    \n",
    "    def get_accuarcy(self,label_train):\n",
    "        print(\"accuracy\", np.mean(np.array(self.pred_label)==label_train))\n",
    "        return np.mean(np.array(self.pred_label)==label_train)\n",
    "              \n",
    "              \n",
    "#         if progressBar:\n",
    "#                 complete = (j + 1) / features_test.shape[0]\n",
    "#                 not_complete = 1 - complete\n",
    "#                 complete = int(50 * complete)\n",
    "#                 not_complete = int(50 * not_complete)\n",
    "#                 print('[' + \">\" * complete, end='')\n",
    "#                 print('-' * not_complete + ']' + '[%' + str((j + 1) * 100 / features_test.shape[0]) + ']')"
   ]
  },
  {
   "cell_type": "code",
   "execution_count": 123,
   "id": "4b39edfe",
   "metadata": {},
   "outputs": [],
   "source": [
    "import pandas as pd\n",
    "import matplotlib.pyplot as plt"
   ]
  },
  {
   "cell_type": "code",
   "execution_count": 124,
   "id": "8ac3c9d0",
   "metadata": {},
   "outputs": [
    {
     "data": {
      "text/html": [
       "<div>\n",
       "<style scoped>\n",
       "    .dataframe tbody tr th:only-of-type {\n",
       "        vertical-align: middle;\n",
       "    }\n",
       "\n",
       "    .dataframe tbody tr th {\n",
       "        vertical-align: top;\n",
       "    }\n",
       "\n",
       "    .dataframe thead th {\n",
       "        text-align: right;\n",
       "    }\n",
       "</style>\n",
       "<table border=\"1\" class=\"dataframe\">\n",
       "  <thead>\n",
       "    <tr style=\"text-align: right;\">\n",
       "      <th></th>\n",
       "      <th>Unnamed: 0</th>\n",
       "      <th>Sepal.Length</th>\n",
       "      <th>Sepal.Width</th>\n",
       "      <th>Petal.Length</th>\n",
       "      <th>Petal.Width</th>\n",
       "      <th>Species</th>\n",
       "    </tr>\n",
       "  </thead>\n",
       "  <tbody>\n",
       "    <tr>\n",
       "      <th>0</th>\n",
       "      <td>1</td>\n",
       "      <td>5.1</td>\n",
       "      <td>3.5</td>\n",
       "      <td>1.4</td>\n",
       "      <td>0.2</td>\n",
       "      <td>setosa</td>\n",
       "    </tr>\n",
       "    <tr>\n",
       "      <th>1</th>\n",
       "      <td>2</td>\n",
       "      <td>4.9</td>\n",
       "      <td>3.0</td>\n",
       "      <td>1.4</td>\n",
       "      <td>0.2</td>\n",
       "      <td>setosa</td>\n",
       "    </tr>\n",
       "    <tr>\n",
       "      <th>2</th>\n",
       "      <td>3</td>\n",
       "      <td>4.7</td>\n",
       "      <td>3.2</td>\n",
       "      <td>1.3</td>\n",
       "      <td>0.2</td>\n",
       "      <td>setosa</td>\n",
       "    </tr>\n",
       "    <tr>\n",
       "      <th>3</th>\n",
       "      <td>4</td>\n",
       "      <td>4.6</td>\n",
       "      <td>3.1</td>\n",
       "      <td>1.5</td>\n",
       "      <td>0.2</td>\n",
       "      <td>setosa</td>\n",
       "    </tr>\n",
       "    <tr>\n",
       "      <th>4</th>\n",
       "      <td>5</td>\n",
       "      <td>5.0</td>\n",
       "      <td>3.6</td>\n",
       "      <td>1.4</td>\n",
       "      <td>0.2</td>\n",
       "      <td>setosa</td>\n",
       "    </tr>\n",
       "  </tbody>\n",
       "</table>\n",
       "</div>"
      ],
      "text/plain": [
       "   Unnamed: 0  Sepal.Length  Sepal.Width  Petal.Length  Petal.Width Species\n",
       "0           1           5.1          3.5           1.4          0.2  setosa\n",
       "1           2           4.9          3.0           1.4          0.2  setosa\n",
       "2           3           4.7          3.2           1.3          0.2  setosa\n",
       "3           4           4.6          3.1           1.5          0.2  setosa\n",
       "4           5           5.0          3.6           1.4          0.2  setosa"
      ]
     },
     "execution_count": 124,
     "metadata": {},
     "output_type": "execute_result"
    }
   ],
   "source": [
    "data = pd.read_csv(\"iris.csv\")\n",
    "data.head()"
   ]
  },
  {
   "cell_type": "code",
   "execution_count": 125,
   "id": "b521c943",
   "metadata": {},
   "outputs": [],
   "source": [
    "data = data.drop(columns = \"Unnamed: 0\")"
   ]
  },
  {
   "cell_type": "code",
   "execution_count": 126,
   "id": "9627fe50",
   "metadata": {},
   "outputs": [
    {
     "data": {
      "text/html": [
       "<div>\n",
       "<style scoped>\n",
       "    .dataframe tbody tr th:only-of-type {\n",
       "        vertical-align: middle;\n",
       "    }\n",
       "\n",
       "    .dataframe tbody tr th {\n",
       "        vertical-align: top;\n",
       "    }\n",
       "\n",
       "    .dataframe thead th {\n",
       "        text-align: right;\n",
       "    }\n",
       "</style>\n",
       "<table border=\"1\" class=\"dataframe\">\n",
       "  <thead>\n",
       "    <tr style=\"text-align: right;\">\n",
       "      <th></th>\n",
       "      <th>Sepal.Length</th>\n",
       "      <th>Sepal.Width</th>\n",
       "      <th>Petal.Length</th>\n",
       "      <th>Petal.Width</th>\n",
       "      <th>Species</th>\n",
       "    </tr>\n",
       "  </thead>\n",
       "  <tbody>\n",
       "    <tr>\n",
       "      <th>0</th>\n",
       "      <td>5.1</td>\n",
       "      <td>3.5</td>\n",
       "      <td>1.4</td>\n",
       "      <td>0.2</td>\n",
       "      <td>setosa</td>\n",
       "    </tr>\n",
       "    <tr>\n",
       "      <th>1</th>\n",
       "      <td>4.9</td>\n",
       "      <td>3.0</td>\n",
       "      <td>1.4</td>\n",
       "      <td>0.2</td>\n",
       "      <td>setosa</td>\n",
       "    </tr>\n",
       "    <tr>\n",
       "      <th>2</th>\n",
       "      <td>4.7</td>\n",
       "      <td>3.2</td>\n",
       "      <td>1.3</td>\n",
       "      <td>0.2</td>\n",
       "      <td>setosa</td>\n",
       "    </tr>\n",
       "    <tr>\n",
       "      <th>3</th>\n",
       "      <td>4.6</td>\n",
       "      <td>3.1</td>\n",
       "      <td>1.5</td>\n",
       "      <td>0.2</td>\n",
       "      <td>setosa</td>\n",
       "    </tr>\n",
       "    <tr>\n",
       "      <th>4</th>\n",
       "      <td>5.0</td>\n",
       "      <td>3.6</td>\n",
       "      <td>1.4</td>\n",
       "      <td>0.2</td>\n",
       "      <td>setosa</td>\n",
       "    </tr>\n",
       "  </tbody>\n",
       "</table>\n",
       "</div>"
      ],
      "text/plain": [
       "   Sepal.Length  Sepal.Width  Petal.Length  Petal.Width Species\n",
       "0           5.1          3.5           1.4          0.2  setosa\n",
       "1           4.9          3.0           1.4          0.2  setosa\n",
       "2           4.7          3.2           1.3          0.2  setosa\n",
       "3           4.6          3.1           1.5          0.2  setosa\n",
       "4           5.0          3.6           1.4          0.2  setosa"
      ]
     },
     "execution_count": 126,
     "metadata": {},
     "output_type": "execute_result"
    }
   ],
   "source": [
    "data.head()"
   ]
  },
  {
   "cell_type": "code",
   "execution_count": 127,
   "id": "b62e5baa",
   "metadata": {},
   "outputs": [],
   "source": [
    "data_ver = data[data['Species']=='versicolor']\n",
    "data_vir = data[data['Species']=='virginica']"
   ]
  },
  {
   "cell_type": "code",
   "execution_count": 128,
   "id": "a11bb82e",
   "metadata": {},
   "outputs": [
    {
     "data": {
      "image/png": "[encoded data removed]",
      "text/plain": [
       "<Figure size 640x480 with 1 Axes>"
      ]
     },
     "metadata": {},
     "output_type": "display_data"
    }
   ],
   "source": [
    "plt.figure()\n",
    "plt.scatter(data_ver['Petal.Length'], data_ver['Petal.Width'], color='red', marker='o', label='versicolor')\n",
    "plt.scatter(data_vir['Petal.Length'], data_vir['Petal.Width'], color='blue', label='virginica')\n",
    "plt.xlabel('Petal.Length')  \n",
    "plt.ylabel('Petal.Width')  \n",
    "#plt.set_zlabel('petal length') \n",
    "plt.legend(loc='upper left')\n",
    "plt.show()"
   ]
  },
  {
   "cell_type": "code",
   "execution_count": 129,
   "id": "26a77c80",
   "metadata": {},
   "outputs": [],
   "source": [
    "train = np.array(pd.concat([data_ver,data_vir]))\n",
    "X = train[:,0:2]\n",
    "y = train[:,4]"
   ]
  },
  {
   "cell_type": "code",
   "execution_count": 130,
   "id": "d24ab245",
   "metadata": {},
   "outputs": [],
   "source": [
    "np.random.shuffle(train)"
   ]
  },
  {
   "cell_type": "code",
   "execution_count": 131,
   "id": "2c7442fd",
   "metadata": {},
   "outputs": [],
   "source": [
    "X = train[:,0:2]\n",
    "y = train[:,-1]"
   ]
  },
  {
   "cell_type": "code",
   "execution_count": 132,
   "id": "5cb910c2",
   "metadata": {},
   "outputs": [],
   "source": [
    "X_train, X_test = X[0:70,:], X[70:,:]\n",
    "y_train, y_test = y[0:70], y[70:]"
   ]
  },
  {
   "cell_type": "code",
   "execution_count": 133,
   "id": "98ec5e15",
   "metadata": {},
   "outputs": [],
   "source": [
    "knn = KNN()"
   ]
  },
  {
   "cell_type": "code",
   "execution_count": 134,
   "id": "eabfa4bc",
   "metadata": {},
   "outputs": [],
   "source": [
    "knn.fit(X_test,X_train,y_train)"
   ]
  },
  {
   "cell_type": "code",
   "execution_count": 135,
   "id": "96c68a31",
   "metadata": {},
   "outputs": [
    {
     "name": "stdout",
     "output_type": "stream",
     "text": [
      "accuracy 0.7\n"
     ]
    },
    {
     "data": {
      "text/plain": [
       "0.7"
      ]
     },
     "execution_count": 135,
     "metadata": {},
     "output_type": "execute_result"
    }
   ],
   "source": [
    "knn.get_accuarcy(y_test)"
   ]
  },
  {
   "cell_type": "code",
   "execution_count": 136,
   "id": "0eab2b48",
   "metadata": {},
   "outputs": [
    {
     "name": "stdout",
     "output_type": "stream",
     "text": [
      "accuracy 0.7\n",
      "accuracy 0.7\n",
      "accuracy 0.6\n",
      "accuracy 0.7\n",
      "accuracy 0.7\n",
      "accuracy 0.7\n",
      "accuracy 0.6666666666666666\n",
      "accuracy 0.6666666666666666\n",
      "accuracy 0.6666666666666666\n"
     ]
    }
   ],
   "source": [
    "# Tuning the parameter\n",
    "accuracy_ls = []\n",
    "for k in range(2,11):\n",
    "    knn = KNN(k)\n",
    "    knn.fit(X_test,X_train,y_train)\n",
    "    accuracy_ls.append(knn.get_accuarcy(y_test))"
   ]
  },
  {
   "cell_type": "code",
   "execution_count": 137,
   "id": "28528493",
   "metadata": {},
   "outputs": [
    {
     "data": {
      "image/png": "[encoded data removed]",
      "text/plain": [
       "<Figure size 640x480 with 1 Axes>"
      ]
     },
     "metadata": {},
     "output_type": "display_data"
    }
   ],
   "source": [
    "plt.figure()\n",
    "plt.plot(range(2,11),accuracy_ls, marker='o', linestyle='-')\n",
    "plt.xlabel('k')\n",
    "plt.ylabel('Accuracy')\n",
    "\n",
    "plt.show()"
   ]
  }
 ],
 "metadata": {
  "kernelspec": {
   "display_name": "Python 3 (ipykernel)",
   "language": "python",
   "name": "python3"
  },
  "language_info": {
   "codemirror_mode": {
    "name": "ipython",
    "version": 3
   },
   "file_extension": ".py",
   "mimetype": "text/x-python",
   "name": "python",
   "nbconvert_exporter": "python",
   "pygments_lexer": "ipython3",
   "version": "3.9.18"
  }
 },
 "nbformat": 4,
 "nbformat_minor": 5
}
